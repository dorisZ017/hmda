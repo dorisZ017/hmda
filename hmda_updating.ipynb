{
 "cells": [
  {
   "cell_type": "code",
   "execution_count": 1,
   "metadata": {
    "collapsed": true
   },
   "outputs": [],
   "source": [
    "import pandas as pd\n",
    "%matplotlib inline\n",
    "import numpy as np\n",
    "import seaborn as sns\n",
    "from scipy.stats import ttest_ind"
   ]
  },
  {
   "cell_type": "code",
   "execution_count": 2,
   "metadata": {},
   "outputs": [
    {
     "name": "stderr",
     "output_type": "stream",
     "text": [
      "/Applications/anaconda3/lib/python3.6/site-packages/IPython/core/interactiveshell.py:2698: DtypeWarning: Columns (28,29,30,38,39,40) have mixed types. Specify dtype option on import or set low_memory=False.\n",
      "  interactivity=interactivity, compiler=compiler, result=result)\n"
     ]
    }
   ],
   "source": [
    "data = pd.read_csv('hmda_lar.csv')"
   ]
  },
  {
   "cell_type": "code",
   "execution_count": 3,
   "metadata": {},
   "outputs": [
    {
     "data": {
      "text/plain": [
       "(4408826, 47)"
      ]
     },
     "execution_count": 3,
     "metadata": {},
     "output_type": "execute_result"
    }
   ],
   "source": [
    "data.shape"
   ]
  },
  {
   "cell_type": "code",
   "execution_count": 4,
   "metadata": {},
   "outputs": [
    {
     "data": {
      "text/html": [
       "<div>\n",
       "<style>\n",
       "    .dataframe thead tr:only-child th {\n",
       "        text-align: right;\n",
       "    }\n",
       "\n",
       "    .dataframe thead th {\n",
       "        text-align: left;\n",
       "    }\n",
       "\n",
       "    .dataframe tbody tr th {\n",
       "        vertical-align: top;\n",
       "    }\n",
       "</style>\n",
       "<table border=\"1\" class=\"dataframe\">\n",
       "  <thead>\n",
       "    <tr style=\"text-align: right;\">\n",
       "      <th></th>\n",
       "      <th>tract_to_msamd_income</th>\n",
       "      <th>rate_spread</th>\n",
       "      <th>population</th>\n",
       "      <th>minority_population</th>\n",
       "      <th>number_of_owner_occupied_units</th>\n",
       "      <th>number_of_1_to_4_family_units</th>\n",
       "      <th>loan_amount_000s</th>\n",
       "      <th>hud_median_family_income</th>\n",
       "      <th>applicant_income_000s</th>\n",
       "      <th>state_name</th>\n",
       "      <th>...</th>\n",
       "      <th>applicant_sex_name</th>\n",
       "      <th>applicant_race_name_5</th>\n",
       "      <th>applicant_race_name_4</th>\n",
       "      <th>applicant_race_name_3</th>\n",
       "      <th>applicant_race_name_2</th>\n",
       "      <th>applicant_race_name_1</th>\n",
       "      <th>applicant_ethnicity_name</th>\n",
       "      <th>agency_name</th>\n",
       "      <th>agency_abbr</th>\n",
       "      <th>action_taken_name</th>\n",
       "    </tr>\n",
       "  </thead>\n",
       "  <tbody>\n",
       "    <tr>\n",
       "      <th>0</th>\n",
       "      <td>NaN</td>\n",
       "      <td>NaN</td>\n",
       "      <td>NaN</td>\n",
       "      <td>NaN</td>\n",
       "      <td>NaN</td>\n",
       "      <td>NaN</td>\n",
       "      <td>290</td>\n",
       "      <td>NaN</td>\n",
       "      <td>44.0</td>\n",
       "      <td>California</td>\n",
       "      <td>...</td>\n",
       "      <td>Female</td>\n",
       "      <td>NaN</td>\n",
       "      <td>NaN</td>\n",
       "      <td>NaN</td>\n",
       "      <td>NaN</td>\n",
       "      <td>White</td>\n",
       "      <td>Hispanic or Latino</td>\n",
       "      <td>Department of Housing and Urban Development</td>\n",
       "      <td>HUD</td>\n",
       "      <td>Application denied by financial institution</td>\n",
       "    </tr>\n",
       "    <tr>\n",
       "      <th>1</th>\n",
       "      <td>NaN</td>\n",
       "      <td>NaN</td>\n",
       "      <td>NaN</td>\n",
       "      <td>NaN</td>\n",
       "      <td>NaN</td>\n",
       "      <td>NaN</td>\n",
       "      <td>600</td>\n",
       "      <td>NaN</td>\n",
       "      <td>42.0</td>\n",
       "      <td>California</td>\n",
       "      <td>...</td>\n",
       "      <td>Male</td>\n",
       "      <td>NaN</td>\n",
       "      <td>NaN</td>\n",
       "      <td>NaN</td>\n",
       "      <td>NaN</td>\n",
       "      <td>White</td>\n",
       "      <td>Not Hispanic or Latino</td>\n",
       "      <td>National Credit Union Administration</td>\n",
       "      <td>NCUA</td>\n",
       "      <td>Application denied by financial institution</td>\n",
       "    </tr>\n",
       "    <tr>\n",
       "      <th>2</th>\n",
       "      <td>NaN</td>\n",
       "      <td>NaN</td>\n",
       "      <td>NaN</td>\n",
       "      <td>NaN</td>\n",
       "      <td>NaN</td>\n",
       "      <td>NaN</td>\n",
       "      <td>118</td>\n",
       "      <td>NaN</td>\n",
       "      <td>43.0</td>\n",
       "      <td>California</td>\n",
       "      <td>...</td>\n",
       "      <td>Male</td>\n",
       "      <td>NaN</td>\n",
       "      <td>NaN</td>\n",
       "      <td>NaN</td>\n",
       "      <td>NaN</td>\n",
       "      <td>White</td>\n",
       "      <td>Not Hispanic or Latino</td>\n",
       "      <td>Department of Housing and Urban Development</td>\n",
       "      <td>HUD</td>\n",
       "      <td>Application denied by financial institution</td>\n",
       "    </tr>\n",
       "    <tr>\n",
       "      <th>3</th>\n",
       "      <td>138.410004</td>\n",
       "      <td>NaN</td>\n",
       "      <td>4323.0</td>\n",
       "      <td>83.0</td>\n",
       "      <td>996.0</td>\n",
       "      <td>1232.0</td>\n",
       "      <td>292</td>\n",
       "      <td>63000.0</td>\n",
       "      <td>141.0</td>\n",
       "      <td>California</td>\n",
       "      <td>...</td>\n",
       "      <td>Female</td>\n",
       "      <td>NaN</td>\n",
       "      <td>NaN</td>\n",
       "      <td>NaN</td>\n",
       "      <td>NaN</td>\n",
       "      <td>White</td>\n",
       "      <td>Hispanic or Latino</td>\n",
       "      <td>Office of Thrift Supervision</td>\n",
       "      <td>OTS</td>\n",
       "      <td>Loan originated</td>\n",
       "    </tr>\n",
       "    <tr>\n",
       "      <th>4</th>\n",
       "      <td>NaN</td>\n",
       "      <td>NaN</td>\n",
       "      <td>NaN</td>\n",
       "      <td>NaN</td>\n",
       "      <td>NaN</td>\n",
       "      <td>NaN</td>\n",
       "      <td>700</td>\n",
       "      <td>NaN</td>\n",
       "      <td>178.0</td>\n",
       "      <td>California</td>\n",
       "      <td>...</td>\n",
       "      <td>Male</td>\n",
       "      <td>NaN</td>\n",
       "      <td>NaN</td>\n",
       "      <td>NaN</td>\n",
       "      <td>NaN</td>\n",
       "      <td>Asian</td>\n",
       "      <td>Not Hispanic or Latino</td>\n",
       "      <td>National Credit Union Administration</td>\n",
       "      <td>NCUA</td>\n",
       "      <td>Application denied by financial institution</td>\n",
       "    </tr>\n",
       "  </tbody>\n",
       "</table>\n",
       "<p>5 rows × 47 columns</p>\n",
       "</div>"
      ],
      "text/plain": [
       "   tract_to_msamd_income  rate_spread  population  minority_population  \\\n",
       "0                    NaN          NaN         NaN                  NaN   \n",
       "1                    NaN          NaN         NaN                  NaN   \n",
       "2                    NaN          NaN         NaN                  NaN   \n",
       "3             138.410004          NaN      4323.0                 83.0   \n",
       "4                    NaN          NaN         NaN                  NaN   \n",
       "\n",
       "   number_of_owner_occupied_units  number_of_1_to_4_family_units  \\\n",
       "0                             NaN                            NaN   \n",
       "1                             NaN                            NaN   \n",
       "2                             NaN                            NaN   \n",
       "3                           996.0                         1232.0   \n",
       "4                             NaN                            NaN   \n",
       "\n",
       "   loan_amount_000s  hud_median_family_income  applicant_income_000s  \\\n",
       "0               290                       NaN                   44.0   \n",
       "1               600                       NaN                   42.0   \n",
       "2               118                       NaN                   43.0   \n",
       "3               292                   63000.0                  141.0   \n",
       "4               700                       NaN                  178.0   \n",
       "\n",
       "   state_name                     ...                      applicant_sex_name  \\\n",
       "0  California                     ...                                  Female   \n",
       "1  California                     ...                                    Male   \n",
       "2  California                     ...                                    Male   \n",
       "3  California                     ...                                  Female   \n",
       "4  California                     ...                                    Male   \n",
       "\n",
       "   applicant_race_name_5 applicant_race_name_4 applicant_race_name_3  \\\n",
       "0                    NaN                   NaN                   NaN   \n",
       "1                    NaN                   NaN                   NaN   \n",
       "2                    NaN                   NaN                   NaN   \n",
       "3                    NaN                   NaN                   NaN   \n",
       "4                    NaN                   NaN                   NaN   \n",
       "\n",
       "  applicant_race_name_2 applicant_race_name_1 applicant_ethnicity_name  \\\n",
       "0                   NaN                 White       Hispanic or Latino   \n",
       "1                   NaN                 White   Not Hispanic or Latino   \n",
       "2                   NaN                 White   Not Hispanic or Latino   \n",
       "3                   NaN                 White       Hispanic or Latino   \n",
       "4                   NaN                 Asian   Not Hispanic or Latino   \n",
       "\n",
       "                                   agency_name agency_abbr  \\\n",
       "0  Department of Housing and Urban Development         HUD   \n",
       "1         National Credit Union Administration        NCUA   \n",
       "2  Department of Housing and Urban Development         HUD   \n",
       "3                 Office of Thrift Supervision         OTS   \n",
       "4         National Credit Union Administration        NCUA   \n",
       "\n",
       "                             action_taken_name  \n",
       "0  Application denied by financial institution  \n",
       "1  Application denied by financial institution  \n",
       "2  Application denied by financial institution  \n",
       "3                              Loan originated  \n",
       "4  Application denied by financial institution  \n",
       "\n",
       "[5 rows x 47 columns]"
      ]
     },
     "execution_count": 4,
     "metadata": {},
     "output_type": "execute_result"
    }
   ],
   "source": [
    "# Look at the structure of the data\n",
    "data.head()"
   ]
  },
  {
   "cell_type": "code",
   "execution_count": 5,
   "metadata": {
    "collapsed": true
   },
   "outputs": [],
   "source": [
    "# Recode actions into approved or denied\n",
    "new_actions = []\n",
    "denied_actions = {'Application denied by financial institution'}\n",
    "approved_actions = {'Loan originated','Loan purchased by the institution','Application approved but not accepted'}\n",
    "for i in data['action_taken_name']:\n",
    "    if i in denied_actions:\n",
    "        new_actions.append('Denied')\n",
    "    else:\n",
    "        if i in approved_actions:\n",
    "            new_actions.append('Approved')\n",
    "        else: new_actions.append(None)"
   ]
  },
  {
   "cell_type": "code",
   "execution_count": 6,
   "metadata": {
    "collapsed": true
   },
   "outputs": [],
   "source": [
    "# Recode race and ethnicity into minority or non-minority\n",
    "minority = []\n",
    "for i in range(data.shape[0]):\n",
    "    result = None\n",
    "    if data['applicant_ethnicity_name'][i] == 'Hispanic or Latino':\n",
    "        result = 'Yes'\n",
    "    if data['applicant_race_name_1'][i] != 'White':\n",
    "        result = 'Yes'\n",
    "    else:\n",
    "        if data['applicant_race_name_1'][i] == 'White' and data['applicant_ethnicity_name'][i] == 'Not Hispanic or Latino':\n",
    "                result = 'No'\n",
    "    minority.append(result)"
   ]
  },
  {
   "cell_type": "code",
   "execution_count": 7,
   "metadata": {},
   "outputs": [],
   "source": [
    "# Append results to the dataset\n",
    "data['Minority'] = minority\n",
    "data['actions_new'] = new_actions"
   ]
  },
  {
   "cell_type": "code",
   "execution_count": 8,
   "metadata": {
    "collapsed": true
   },
   "outputs": [],
   "source": [
    "# For convenience, export results of recoding to csv\n",
    "data[['Minority','actions_new']].to_csv('addCol.csv')"
   ]
  },
  {
   "cell_type": "code",
   "execution_count": 4,
   "metadata": {
    "collapsed": true
   },
   "outputs": [],
   "source": [
    "# Read from exported csv and append to dataset\n",
    "addCol = pd.read_csv('addCol.csv')\n",
    "\n",
    "data['actions_new'] = addCol['actions_new']\n",
    "data['Minority'] = addCol['Minority']"
   ]
  },
  {
   "cell_type": "code",
   "execution_count": 10,
   "metadata": {},
   "outputs": [
    {
     "data": {
      "text/plain": [
       "Minority  actions_new\n",
       "No        Approved       2349563\n",
       "          Denied          425602\n",
       "Yes       Approved       1301539\n",
       "          Denied          332122\n",
       "dtype: int64"
      ]
     },
     "execution_count": 10,
     "metadata": {},
     "output_type": "execute_result"
    }
   ],
   "source": [
    "# Overall\n",
    "data[['Minority','actions_new']].groupby(['Minority','actions_new']).size()"
   ]
  },
  {
   "cell_type": "code",
   "execution_count": 11,
   "metadata": {},
   "outputs": [
    {
     "data": {
      "text/plain": [
       "Minority  actions_new\n",
       "No        Approved       917813\n",
       "          Denied         168044\n",
       "Yes       Approved       404961\n",
       "          Denied         134828\n",
       "dtype: int64"
      ]
     },
     "execution_count": 11,
     "metadata": {},
     "output_type": "execute_result"
    }
   ],
   "source": [
    "# Texas\n",
    "data[['Minority','actions_new']].loc[data['state_name']=='Texas'].groupby(['Minority','actions_new']).size()"
   ]
  },
  {
   "cell_type": "code",
   "execution_count": 12,
   "metadata": {},
   "outputs": [
    {
     "data": {
      "text/plain": [
       "Minority  actions_new\n",
       "No        Approved       1431750\n",
       "          Denied          257558\n",
       "Yes       Approved        896578\n",
       "          Denied          197294\n",
       "dtype: int64"
      ]
     },
     "execution_count": 12,
     "metadata": {},
     "output_type": "execute_result"
    }
   ],
   "source": [
    "# California\n",
    "data[['Minority','actions_new']].loc[data['state_name']=='California'].groupby(['Minority','actions_new']).size()"
   ]
  },
  {
   "cell_type": "code",
   "execution_count": 16,
   "metadata": {},
   "outputs": [
    {
     "data": {
      "text/plain": [
       "tract_to_msamd_income              16339\n",
       "population                         15557\n",
       "minority_population                15686\n",
       "number_of_owner_occupied_units     17508\n",
       "number_of_1_to_4_family_units      15936\n",
       "loan_amount_000s                       0\n",
       "hud_median_family_income           14960\n",
       "applicant_income_000s             257826\n",
       "state_abbr                             0\n",
       "purchaser_type_name                    0\n",
       "property_type_name                     0\n",
       "preapproval_name                       0\n",
       "owner_occupancy_name                   0\n",
       "loan_type_name                         0\n",
       "loan_purpose_name                      0\n",
       "lien_status_name                       0\n",
       "hoepa_status_name                      0\n",
       "co_applicant_sex_name                  0\n",
       "co_applicant_race_name_1               0\n",
       "co_applicant_ethnicity_name            0\n",
       "as_of_year                             0\n",
       "application_date_indicator             0\n",
       "applicant_sex_name                     0\n",
       "applicant_race_name_1                  0\n",
       "applicant_ethnicity_name               0\n",
       "agency_abbr                            0\n",
       "Minority                               0\n",
       "actions_new                            0\n",
       "minority_ratio                     15686\n",
       "tract_median_income                16339\n",
       "dtype: int64"
      ]
     },
     "execution_count": 16,
     "metadata": {},
     "output_type": "execute_result"
    }
   ],
   "source": [
    "# Look at missing values\n",
    "data.isnull().sum()"
   ]
  },
  {
   "cell_type": "code",
   "execution_count": 15,
   "metadata": {},
   "outputs": [],
   "source": [
    "# Delete meanlingless variables\n",
    "data = data.drop(['rate_spread','edit_status_name','denial_reason_name_3','denial_reason_name_2','denial_reason_name_1',\n",
    "                 'co_applicant_race_name_5','co_applicant_race_name_4','co_applicant_race_name_3','co_applicant_race_name_2',\n",
    "                 'applicant_race_name_5','applicant_race_name_4','applicant_race_name_3','applicant_race_name_2',\n",
    "                 'respondent_id','census_tract_number','msamd_name','county_name','sequence_number','state_name',\n",
    "                 'action_taken_name','agency_name'],axis=1)"
   ]
  },
  {
   "cell_type": "code",
   "execution_count": 17,
   "metadata": {
    "collapsed": true
   },
   "outputs": [],
   "source": [
    "# Feature engineering\n",
    "data['minority_ratio'] = data['minority_population']/data['population']\n",
    "data['tract_median_income'] = data['tract_to_msamd_income'] * data['hud_median_family_income']\n",
    "data['income_to_loan'] = data['applicant_income_000s'] / data['loan_amount_000s']"
   ]
  },
  {
   "cell_type": "code",
   "execution_count": 8,
   "metadata": {
    "collapsed": true
   },
   "outputs": [],
   "source": [
    "# For future\n",
    "data = data.dropna(subset = ['census_tract_number'])\n",
    "data = data.dropna(subset = ['county_name'])\n",
    "\n",
    "data['tract_uni'] = data['census_tract_number'].astype(str) + '-' + data['county_name'] + '-' + data['state_abbr']"
   ]
  },
  {
   "cell_type": "code",
   "execution_count": 18,
   "metadata": {
    "collapsed": true
   },
   "outputs": [],
   "source": [
    "# Define training data for modeling\n",
    "train = data[['tract_median_income','number_of_owner_occupied_units', 'number_of_1_to_4_family_units',\n",
    "       'income_to_loan',\n",
    "       'state_abbr', 'property_type_name',\n",
    "       'preapproval_name', 'owner_occupancy_name', 'loan_type_name',\n",
    "       'loan_purpose_name', 'lien_status_name', 'hoepa_status_name',\n",
    "       'co_applicant_sex_name','as_of_year','applicant_sex_name','agency_abbr','minority_ratio','actions_new']]"
   ]
  },
  {
   "cell_type": "code",
   "execution_count": 19,
   "metadata": {
    "collapsed": true
   },
   "outputs": [],
   "source": [
    "train = train.dropna()"
   ]
  },
  {
   "cell_type": "code",
   "execution_count": 20,
   "metadata": {
    "collapsed": true
   },
   "outputs": [],
   "source": [
    "train = pd.get_dummies(train)"
   ]
  },
  {
   "cell_type": "code",
   "execution_count": 22,
   "metadata": {},
   "outputs": [
    {
     "data": {
      "text/html": [
       "<div>\n",
       "<style>\n",
       "    .dataframe thead tr:only-child th {\n",
       "        text-align: right;\n",
       "    }\n",
       "\n",
       "    .dataframe thead th {\n",
       "        text-align: left;\n",
       "    }\n",
       "\n",
       "    .dataframe tbody tr th {\n",
       "        vertical-align: top;\n",
       "    }\n",
       "</style>\n",
       "<table border=\"1\" class=\"dataframe\">\n",
       "  <thead>\n",
       "    <tr style=\"text-align: right;\">\n",
       "      <th></th>\n",
       "      <th>tract_median_income</th>\n",
       "      <th>number_of_owner_occupied_units</th>\n",
       "      <th>number_of_1_to_4_family_units</th>\n",
       "      <th>income_to_loan</th>\n",
       "      <th>as_of_year</th>\n",
       "      <th>minority_ratio</th>\n",
       "      <th>state_abbr_CA</th>\n",
       "      <th>state_abbr_TX</th>\n",
       "      <th>property_type_name_Manufactured housing</th>\n",
       "      <th>property_type_name_One-to-four family dwelling (other than manufactured housing)</th>\n",
       "      <th>...</th>\n",
       "      <th>applicant_sex_name_Male</th>\n",
       "      <th>agency_abbr_CFPB</th>\n",
       "      <th>agency_abbr_FDIC</th>\n",
       "      <th>agency_abbr_FRS</th>\n",
       "      <th>agency_abbr_HUD</th>\n",
       "      <th>agency_abbr_NCUA</th>\n",
       "      <th>agency_abbr_OCC</th>\n",
       "      <th>agency_abbr_OTS</th>\n",
       "      <th>actions_new_Approved</th>\n",
       "      <th>actions_new_Denied</th>\n",
       "    </tr>\n",
       "  </thead>\n",
       "  <tbody>\n",
       "    <tr>\n",
       "      <th>3</th>\n",
       "      <td>8.719830e+06</td>\n",
       "      <td>996.0</td>\n",
       "      <td>1232.0</td>\n",
       "      <td>0.482877</td>\n",
       "      <td>2010</td>\n",
       "      <td>0.019200</td>\n",
       "      <td>1</td>\n",
       "      <td>0</td>\n",
       "      <td>0</td>\n",
       "      <td>1</td>\n",
       "      <td>...</td>\n",
       "      <td>0</td>\n",
       "      <td>0</td>\n",
       "      <td>0</td>\n",
       "      <td>0</td>\n",
       "      <td>0</td>\n",
       "      <td>0</td>\n",
       "      <td>0</td>\n",
       "      <td>1</td>\n",
       "      <td>1</td>\n",
       "      <td>0</td>\n",
       "    </tr>\n",
       "    <tr>\n",
       "      <th>13</th>\n",
       "      <td>9.863469e+06</td>\n",
       "      <td>1065.0</td>\n",
       "      <td>1381.0</td>\n",
       "      <td>0.136054</td>\n",
       "      <td>2010</td>\n",
       "      <td>0.006228</td>\n",
       "      <td>1</td>\n",
       "      <td>0</td>\n",
       "      <td>0</td>\n",
       "      <td>1</td>\n",
       "      <td>...</td>\n",
       "      <td>1</td>\n",
       "      <td>0</td>\n",
       "      <td>0</td>\n",
       "      <td>0</td>\n",
       "      <td>0</td>\n",
       "      <td>0</td>\n",
       "      <td>1</td>\n",
       "      <td>0</td>\n",
       "      <td>1</td>\n",
       "      <td>0</td>\n",
       "    </tr>\n",
       "    <tr>\n",
       "      <th>18</th>\n",
       "      <td>8.673315e+06</td>\n",
       "      <td>858.0</td>\n",
       "      <td>1488.0</td>\n",
       "      <td>0.392739</td>\n",
       "      <td>2010</td>\n",
       "      <td>0.006639</td>\n",
       "      <td>1</td>\n",
       "      <td>0</td>\n",
       "      <td>0</td>\n",
       "      <td>1</td>\n",
       "      <td>...</td>\n",
       "      <td>1</td>\n",
       "      <td>0</td>\n",
       "      <td>0</td>\n",
       "      <td>0</td>\n",
       "      <td>0</td>\n",
       "      <td>0</td>\n",
       "      <td>1</td>\n",
       "      <td>0</td>\n",
       "      <td>1</td>\n",
       "      <td>0</td>\n",
       "    </tr>\n",
       "    <tr>\n",
       "      <th>23</th>\n",
       "      <td>8.227233e+06</td>\n",
       "      <td>1519.0</td>\n",
       "      <td>1964.0</td>\n",
       "      <td>0.592105</td>\n",
       "      <td>2010</td>\n",
       "      <td>0.005860</td>\n",
       "      <td>1</td>\n",
       "      <td>0</td>\n",
       "      <td>0</td>\n",
       "      <td>1</td>\n",
       "      <td>...</td>\n",
       "      <td>1</td>\n",
       "      <td>0</td>\n",
       "      <td>0</td>\n",
       "      <td>0</td>\n",
       "      <td>0</td>\n",
       "      <td>0</td>\n",
       "      <td>1</td>\n",
       "      <td>0</td>\n",
       "      <td>1</td>\n",
       "      <td>0</td>\n",
       "    </tr>\n",
       "    <tr>\n",
       "      <th>28</th>\n",
       "      <td>1.503676e+07</td>\n",
       "      <td>1927.0</td>\n",
       "      <td>2241.0</td>\n",
       "      <td>0.411379</td>\n",
       "      <td>2010</td>\n",
       "      <td>0.003975</td>\n",
       "      <td>1</td>\n",
       "      <td>0</td>\n",
       "      <td>0</td>\n",
       "      <td>1</td>\n",
       "      <td>...</td>\n",
       "      <td>0</td>\n",
       "      <td>0</td>\n",
       "      <td>0</td>\n",
       "      <td>0</td>\n",
       "      <td>0</td>\n",
       "      <td>0</td>\n",
       "      <td>1</td>\n",
       "      <td>0</td>\n",
       "      <td>1</td>\n",
       "      <td>0</td>\n",
       "    </tr>\n",
       "  </tbody>\n",
       "</table>\n",
       "<p>5 rows × 46 columns</p>\n",
       "</div>"
      ],
      "text/plain": [
       "    tract_median_income  number_of_owner_occupied_units  \\\n",
       "3          8.719830e+06                           996.0   \n",
       "13         9.863469e+06                          1065.0   \n",
       "18         8.673315e+06                           858.0   \n",
       "23         8.227233e+06                          1519.0   \n",
       "28         1.503676e+07                          1927.0   \n",
       "\n",
       "    number_of_1_to_4_family_units  income_to_loan  as_of_year  minority_ratio  \\\n",
       "3                          1232.0        0.482877        2010        0.019200   \n",
       "13                         1381.0        0.136054        2010        0.006228   \n",
       "18                         1488.0        0.392739        2010        0.006639   \n",
       "23                         1964.0        0.592105        2010        0.005860   \n",
       "28                         2241.0        0.411379        2010        0.003975   \n",
       "\n",
       "    state_abbr_CA  state_abbr_TX  property_type_name_Manufactured housing  \\\n",
       "3               1              0                                        0   \n",
       "13              1              0                                        0   \n",
       "18              1              0                                        0   \n",
       "23              1              0                                        0   \n",
       "28              1              0                                        0   \n",
       "\n",
       "    property_type_name_One-to-four family dwelling (other than manufactured housing)  \\\n",
       "3                                                   1                                  \n",
       "13                                                  1                                  \n",
       "18                                                  1                                  \n",
       "23                                                  1                                  \n",
       "28                                                  1                                  \n",
       "\n",
       "           ...          applicant_sex_name_Male  agency_abbr_CFPB  \\\n",
       "3          ...                                0                 0   \n",
       "13         ...                                1                 0   \n",
       "18         ...                                1                 0   \n",
       "23         ...                                1                 0   \n",
       "28         ...                                0                 0   \n",
       "\n",
       "    agency_abbr_FDIC  agency_abbr_FRS  agency_abbr_HUD  agency_abbr_NCUA  \\\n",
       "3                  0                0                0                 0   \n",
       "13                 0                0                0                 0   \n",
       "18                 0                0                0                 0   \n",
       "23                 0                0                0                 0   \n",
       "28                 0                0                0                 0   \n",
       "\n",
       "    agency_abbr_OCC  agency_abbr_OTS  actions_new_Approved  actions_new_Denied  \n",
       "3                 0                1                     1                   0  \n",
       "13                1                0                     1                   0  \n",
       "18                1                0                     1                   0  \n",
       "23                1                0                     1                   0  \n",
       "28                1                0                     1                   0  \n",
       "\n",
       "[5 rows x 46 columns]"
      ]
     },
     "execution_count": 22,
     "metadata": {},
     "output_type": "execute_result"
    }
   ],
   "source": [
    "train.head()"
   ]
  },
  {
   "cell_type": "code",
   "execution_count": 25,
   "metadata": {},
   "outputs": [
    {
     "data": {
      "text/plain": [
       "3     1\n",
       "13    1\n",
       "18    1\n",
       "23    1\n",
       "28    1\n",
       "Name: actions_new_Approved, dtype: uint8"
      ]
     },
     "execution_count": 25,
     "metadata": {},
     "output_type": "execute_result"
    }
   ],
   "source": [
    "y = train.iloc[:,44]\n",
    "y.head()"
   ]
  },
  {
   "cell_type": "code",
   "execution_count": 27,
   "metadata": {},
   "outputs": [
    {
     "data": {
      "text/html": [
       "<div>\n",
       "<style>\n",
       "    .dataframe thead tr:only-child th {\n",
       "        text-align: right;\n",
       "    }\n",
       "\n",
       "    .dataframe thead th {\n",
       "        text-align: left;\n",
       "    }\n",
       "\n",
       "    .dataframe tbody tr th {\n",
       "        vertical-align: top;\n",
       "    }\n",
       "</style>\n",
       "<table border=\"1\" class=\"dataframe\">\n",
       "  <thead>\n",
       "    <tr style=\"text-align: right;\">\n",
       "      <th></th>\n",
       "      <th>tract_median_income</th>\n",
       "      <th>number_of_owner_occupied_units</th>\n",
       "      <th>number_of_1_to_4_family_units</th>\n",
       "      <th>income_to_loan</th>\n",
       "      <th>as_of_year</th>\n",
       "      <th>minority_ratio</th>\n",
       "      <th>state_abbr_CA</th>\n",
       "      <th>state_abbr_TX</th>\n",
       "      <th>property_type_name_Manufactured housing</th>\n",
       "      <th>property_type_name_One-to-four family dwelling (other than manufactured housing)</th>\n",
       "      <th>...</th>\n",
       "      <th>applicant_sex_name_Female</th>\n",
       "      <th>applicant_sex_name_Information not provided by applicant in mail, Internet, or telephone application</th>\n",
       "      <th>applicant_sex_name_Male</th>\n",
       "      <th>agency_abbr_CFPB</th>\n",
       "      <th>agency_abbr_FDIC</th>\n",
       "      <th>agency_abbr_FRS</th>\n",
       "      <th>agency_abbr_HUD</th>\n",
       "      <th>agency_abbr_NCUA</th>\n",
       "      <th>agency_abbr_OCC</th>\n",
       "      <th>agency_abbr_OTS</th>\n",
       "    </tr>\n",
       "  </thead>\n",
       "  <tbody>\n",
       "    <tr>\n",
       "      <th>3</th>\n",
       "      <td>8.719830e+06</td>\n",
       "      <td>996.0</td>\n",
       "      <td>1232.0</td>\n",
       "      <td>0.482877</td>\n",
       "      <td>2010</td>\n",
       "      <td>0.019200</td>\n",
       "      <td>1</td>\n",
       "      <td>0</td>\n",
       "      <td>0</td>\n",
       "      <td>1</td>\n",
       "      <td>...</td>\n",
       "      <td>1</td>\n",
       "      <td>0</td>\n",
       "      <td>0</td>\n",
       "      <td>0</td>\n",
       "      <td>0</td>\n",
       "      <td>0</td>\n",
       "      <td>0</td>\n",
       "      <td>0</td>\n",
       "      <td>0</td>\n",
       "      <td>1</td>\n",
       "    </tr>\n",
       "    <tr>\n",
       "      <th>13</th>\n",
       "      <td>9.863469e+06</td>\n",
       "      <td>1065.0</td>\n",
       "      <td>1381.0</td>\n",
       "      <td>0.136054</td>\n",
       "      <td>2010</td>\n",
       "      <td>0.006228</td>\n",
       "      <td>1</td>\n",
       "      <td>0</td>\n",
       "      <td>0</td>\n",
       "      <td>1</td>\n",
       "      <td>...</td>\n",
       "      <td>0</td>\n",
       "      <td>0</td>\n",
       "      <td>1</td>\n",
       "      <td>0</td>\n",
       "      <td>0</td>\n",
       "      <td>0</td>\n",
       "      <td>0</td>\n",
       "      <td>0</td>\n",
       "      <td>1</td>\n",
       "      <td>0</td>\n",
       "    </tr>\n",
       "    <tr>\n",
       "      <th>18</th>\n",
       "      <td>8.673315e+06</td>\n",
       "      <td>858.0</td>\n",
       "      <td>1488.0</td>\n",
       "      <td>0.392739</td>\n",
       "      <td>2010</td>\n",
       "      <td>0.006639</td>\n",
       "      <td>1</td>\n",
       "      <td>0</td>\n",
       "      <td>0</td>\n",
       "      <td>1</td>\n",
       "      <td>...</td>\n",
       "      <td>0</td>\n",
       "      <td>0</td>\n",
       "      <td>1</td>\n",
       "      <td>0</td>\n",
       "      <td>0</td>\n",
       "      <td>0</td>\n",
       "      <td>0</td>\n",
       "      <td>0</td>\n",
       "      <td>1</td>\n",
       "      <td>0</td>\n",
       "    </tr>\n",
       "    <tr>\n",
       "      <th>23</th>\n",
       "      <td>8.227233e+06</td>\n",
       "      <td>1519.0</td>\n",
       "      <td>1964.0</td>\n",
       "      <td>0.592105</td>\n",
       "      <td>2010</td>\n",
       "      <td>0.005860</td>\n",
       "      <td>1</td>\n",
       "      <td>0</td>\n",
       "      <td>0</td>\n",
       "      <td>1</td>\n",
       "      <td>...</td>\n",
       "      <td>0</td>\n",
       "      <td>0</td>\n",
       "      <td>1</td>\n",
       "      <td>0</td>\n",
       "      <td>0</td>\n",
       "      <td>0</td>\n",
       "      <td>0</td>\n",
       "      <td>0</td>\n",
       "      <td>1</td>\n",
       "      <td>0</td>\n",
       "    </tr>\n",
       "    <tr>\n",
       "      <th>28</th>\n",
       "      <td>1.503676e+07</td>\n",
       "      <td>1927.0</td>\n",
       "      <td>2241.0</td>\n",
       "      <td>0.411379</td>\n",
       "      <td>2010</td>\n",
       "      <td>0.003975</td>\n",
       "      <td>1</td>\n",
       "      <td>0</td>\n",
       "      <td>0</td>\n",
       "      <td>1</td>\n",
       "      <td>...</td>\n",
       "      <td>1</td>\n",
       "      <td>0</td>\n",
       "      <td>0</td>\n",
       "      <td>0</td>\n",
       "      <td>0</td>\n",
       "      <td>0</td>\n",
       "      <td>0</td>\n",
       "      <td>0</td>\n",
       "      <td>1</td>\n",
       "      <td>0</td>\n",
       "    </tr>\n",
       "  </tbody>\n",
       "</table>\n",
       "<p>5 rows × 44 columns</p>\n",
       "</div>"
      ],
      "text/plain": [
       "    tract_median_income  number_of_owner_occupied_units  \\\n",
       "3          8.719830e+06                           996.0   \n",
       "13         9.863469e+06                          1065.0   \n",
       "18         8.673315e+06                           858.0   \n",
       "23         8.227233e+06                          1519.0   \n",
       "28         1.503676e+07                          1927.0   \n",
       "\n",
       "    number_of_1_to_4_family_units  income_to_loan  as_of_year  minority_ratio  \\\n",
       "3                          1232.0        0.482877        2010        0.019200   \n",
       "13                         1381.0        0.136054        2010        0.006228   \n",
       "18                         1488.0        0.392739        2010        0.006639   \n",
       "23                         1964.0        0.592105        2010        0.005860   \n",
       "28                         2241.0        0.411379        2010        0.003975   \n",
       "\n",
       "    state_abbr_CA  state_abbr_TX  property_type_name_Manufactured housing  \\\n",
       "3               1              0                                        0   \n",
       "13              1              0                                        0   \n",
       "18              1              0                                        0   \n",
       "23              1              0                                        0   \n",
       "28              1              0                                        0   \n",
       "\n",
       "    property_type_name_One-to-four family dwelling (other than manufactured housing)  \\\n",
       "3                                                   1                                  \n",
       "13                                                  1                                  \n",
       "18                                                  1                                  \n",
       "23                                                  1                                  \n",
       "28                                                  1                                  \n",
       "\n",
       "         ...         applicant_sex_name_Female  \\\n",
       "3        ...                                 1   \n",
       "13       ...                                 0   \n",
       "18       ...                                 0   \n",
       "23       ...                                 0   \n",
       "28       ...                                 1   \n",
       "\n",
       "    applicant_sex_name_Information not provided by applicant in mail, Internet, or telephone application  \\\n",
       "3                                                   0                                                      \n",
       "13                                                  0                                                      \n",
       "18                                                  0                                                      \n",
       "23                                                  0                                                      \n",
       "28                                                  0                                                      \n",
       "\n",
       "    applicant_sex_name_Male  agency_abbr_CFPB  agency_abbr_FDIC  \\\n",
       "3                         0                 0                 0   \n",
       "13                        1                 0                 0   \n",
       "18                        1                 0                 0   \n",
       "23                        1                 0                 0   \n",
       "28                        0                 0                 0   \n",
       "\n",
       "    agency_abbr_FRS  agency_abbr_HUD  agency_abbr_NCUA  agency_abbr_OCC  \\\n",
       "3                 0                0                 0                0   \n",
       "13                0                0                 0                1   \n",
       "18                0                0                 0                1   \n",
       "23                0                0                 0                1   \n",
       "28                0                0                 0                1   \n",
       "\n",
       "    agency_abbr_OTS  \n",
       "3                 1  \n",
       "13                0  \n",
       "18                0  \n",
       "23                0  \n",
       "28                0  \n",
       "\n",
       "[5 rows x 44 columns]"
      ]
     },
     "execution_count": 27,
     "metadata": {},
     "output_type": "execute_result"
    }
   ],
   "source": [
    "X = train.iloc[:,0:44]\n",
    "\n",
    "X.head()"
   ]
  },
  {
   "cell_type": "code",
   "execution_count": 21,
   "metadata": {},
   "outputs": [
    {
     "data": {
      "text/plain": [
       "(4133500, 46)"
      ]
     },
     "execution_count": 21,
     "metadata": {},
     "output_type": "execute_result"
    }
   ],
   "source": [
    "train.shape"
   ]
  },
  {
   "cell_type": "code",
   "execution_count": 102,
   "metadata": {},
   "outputs": [
    {
     "data": {
      "text/plain": [
       "count    1.597741e+06\n",
       "mean     1.008917e+02\n",
       "std      1.215228e+02\n",
       "min      1.000000e+00\n",
       "25%      4.900000e+01\n",
       "50%      7.700000e+01\n",
       "75%      1.220000e+02\n",
       "max      9.999000e+03\n",
       "Name: applicant_income_000s, dtype: float64"
      ]
     },
     "execution_count": 102,
     "metadata": {},
     "output_type": "execute_result"
    }
   ],
   "source": [
    "mino = data.loc[data['Minority'] == 'Yes']\n",
    "majo = data.loc[data['Minority'] == 'No']\n",
    "mino['applicant_income_000s'].describe()"
   ]
  },
  {
   "cell_type": "code",
   "execution_count": 103,
   "metadata": {},
   "outputs": [
    {
     "data": {
      "text/plain": [
       "count    2.606991e+06\n",
       "mean     1.352630e+02\n",
       "std      1.915382e+02\n",
       "min      1.000000e+00\n",
       "25%      6.400000e+01\n",
       "50%      9.900000e+01\n",
       "75%      1.520000e+02\n",
       "max      9.999000e+03\n",
       "Name: applicant_income_000s, dtype: float64"
      ]
     },
     "execution_count": 103,
     "metadata": {},
     "output_type": "execute_result"
    }
   ],
   "source": [
    "majo['applicant_income_000s'].describe()"
   ]
  },
  {
   "cell_type": "code",
   "execution_count": 104,
   "metadata": {},
   "outputs": [
    {
     "data": {
      "text/plain": [
       "count    1.709227e+06\n",
       "mean     2.414074e+02\n",
       "std      1.869450e+02\n",
       "min      1.000000e+00\n",
       "25%      1.200000e+02\n",
       "50%      2.000000e+02\n",
       "75%      3.200000e+02\n",
       "max      1.400000e+04\n",
       "Name: loan_amount_000s, dtype: float64"
      ]
     },
     "execution_count": 104,
     "metadata": {},
     "output_type": "execute_result"
    }
   ],
   "source": [
    "mino['loan_amount_000s'].describe()"
   ]
  },
  {
   "cell_type": "code",
   "execution_count": 105,
   "metadata": {},
   "outputs": [
    {
     "data": {
      "text/plain": [
       "count    2.759894e+06\n",
       "mean     2.763878e+02\n",
       "std      2.567693e+02\n",
       "min      1.000000e+00\n",
       "25%      1.340000e+02\n",
       "50%      2.200000e+02\n",
       "75%      3.550000e+02\n",
       "max      7.600000e+04\n",
       "Name: loan_amount_000s, dtype: float64"
      ]
     },
     "execution_count": 105,
     "metadata": {},
     "output_type": "execute_result"
    }
   ],
   "source": [
    "majo['loan_amount_000s'].describe()"
   ]
  },
  {
   "cell_type": "code",
   "execution_count": 9,
   "metadata": {
    "collapsed": true
   },
   "outputs": [],
   "source": [
    "data['income_to_loan'] = data['applicant_income_000s'] / data['loan_amount_000s']"
   ]
  },
  {
   "cell_type": "code",
   "execution_count": 17,
   "metadata": {},
   "outputs": [
    {
     "name": "stdout",
     "output_type": "stream",
     "text": [
      "(4441455,)\n"
     ]
    },
    {
     "data": {
      "text/plain": [
       "<matplotlib.axes._subplots.AxesSubplot at 0x1a3b470be0>"
      ]
     },
     "execution_count": 17,
     "metadata": {},
     "output_type": "execute_result"
    },
    {
     "data": {
      "image/png": "[encoded data removed]",
      "text/plain": [
       "<matplotlib.figure.Figure at 0x1a373bd860>"
      ]
     },
     "metadata": {},
     "output_type": "display_data"
    }
   ],
   "source": [
    "plot = data.loc[data['income_to_loan']<5]['income_to_loan']\n",
    "print(plot.shape)\n",
    "sns.distplot(np.log(plot))"
   ]
  },
  {
   "cell_type": "code",
   "execution_count": 76,
   "metadata": {},
   "outputs": [
    {
     "data": {
      "text/plain": [
       "No co-applicant                                                                      2326137\n",
       "White                                                                                1843634\n",
       "Asian                                                                                 332660\n",
       "Information not provided by applicant in mail, Internet, or telephone application     213522\n",
       "Black or African American                                                              61649\n",
       "Native Hawaiian or Other Pacific Islander                                              18466\n",
       "American Indian or Alaska Native                                                       16967\n",
       "Not applicable                                                                          3581\n",
       "Name: co_applicant_race_name_1, dtype: int64"
      ]
     },
     "execution_count": 76,
     "metadata": {},
     "output_type": "execute_result"
    }
   ],
   "source": [
    "data['co_applicant_race_name_1'].value_counts()"
   ]
  },
  {
   "cell_type": "code",
   "execution_count": 25,
   "metadata": {
    "collapsed": true
   },
   "outputs": [],
   "source": [
    "data = data.dropna(subset = ['Minority'])"
   ]
  },
  {
   "cell_type": "code",
   "execution_count": 26,
   "metadata": {
    "collapsed": true
   },
   "outputs": [],
   "source": [
    "data = data.dropna(subset = ['actions_new'])"
   ]
  },
  {
   "cell_type": "code",
   "execution_count": 27,
   "metadata": {},
   "outputs": [
    {
     "data": {
      "text/plain": [
       "(4170109, 49)"
      ]
     },
     "execution_count": 27,
     "metadata": {},
     "output_type": "execute_result"
    }
   ],
   "source": [
    "data.shape"
   ]
  },
  {
   "cell_type": "code",
   "execution_count": 12,
   "metadata": {},
   "outputs": [
    {
     "data": {
      "text/plain": [
       "tract_to_msamd_income              17644\n",
       "population                         16850\n",
       "minority_population                16980\n",
       "number_of_owner_occupied_units     18842\n",
       "number_of_1_to_4_family_units      17234\n",
       "loan_amount_000s                       0\n",
       "hud_median_family_income           16242\n",
       "applicant_income_000s             264693\n",
       "state_abbr                             0\n",
       "purchaser_type_name                    0\n",
       "property_type_name                     0\n",
       "preapproval_name                       0\n",
       "owner_occupancy_name                   0\n",
       "loan_type_name                         0\n",
       "loan_purpose_name                      0\n",
       "lien_status_name                       0\n",
       "hoepa_status_name                      0\n",
       "co_applicant_sex_name                  0\n",
       "co_applicant_race_name_1               0\n",
       "co_applicant_ethnicity_name            0\n",
       "as_of_year                             0\n",
       "application_date_indicator             0\n",
       "applicant_sex_name                     0\n",
       "applicant_race_name_1                  0\n",
       "applicant_ethnicity_name               0\n",
       "agency_abbr                            0\n",
       "actions_new                            0\n",
       "Minority                               0\n",
       "dtype: int64"
      ]
     },
     "execution_count": 12,
     "metadata": {},
     "output_type": "execute_result"
    }
   ],
   "source": [
    "data.isnull().sum()"
   ]
  },
  {
   "cell_type": "code",
   "execution_count": 6,
   "metadata": {
    "collapsed": true
   },
   "outputs": [],
   "source": [
    "data['actions_new'] = new_actions"
   ]
  },
  {
   "cell_type": "code",
   "execution_count": 3,
   "metadata": {
    "collapsed": true
   },
   "outputs": [],
   "source": [
    "data_simple = data"
   ]
  },
  {
   "cell_type": "code",
   "execution_count": 14,
   "metadata": {},
   "outputs": [
    {
     "data": {
      "text/plain": [
       "Index(['tract_to_msamd_income', 'population', 'minority_population',\n",
       "       'number_of_owner_occupied_units', 'number_of_1_to_4_family_units',\n",
       "       'loan_amount_000s', 'hud_median_family_income', 'applicant_income_000s',\n",
       "       'state_abbr', 'purchaser_type_name', 'property_type_name',\n",
       "       'preapproval_name', 'owner_occupancy_name', 'loan_type_name',\n",
       "       'loan_purpose_name', 'lien_status_name', 'hoepa_status_name',\n",
       "       'co_applicant_sex_name', 'co_applicant_race_name_1',\n",
       "       'co_applicant_ethnicity_name', 'as_of_year',\n",
       "       'application_date_indicator', 'applicant_sex_name',\n",
       "       'applicant_race_name_1', 'applicant_ethnicity_name', 'agency_abbr',\n",
       "       'actions_new', 'Minority', 'minority_ratio'],\n",
       "      dtype='object')"
      ]
     },
     "execution_count": 14,
     "metadata": {},
     "output_type": "execute_result"
    }
   ],
   "source": [
    "data.columns"
   ]
  },
  {
   "cell_type": "code",
   "execution_count": 34,
   "metadata": {},
   "outputs": [
    {
     "data": {
      "text/plain": [
       "3     1\n",
       "13    1\n",
       "18    1\n",
       "28    1\n",
       "38    1\n",
       "Name: actions_new_Approved, dtype: uint8"
      ]
     },
     "execution_count": 34,
     "metadata": {},
     "output_type": "execute_result"
    }
   ],
   "source": [
    "y.head()"
   ]
  },
  {
   "cell_type": "code",
   "execution_count": 65,
   "metadata": {
    "collapsed": true
   },
   "outputs": [],
   "source": [
    "from sklearn.preprocessing import MinMaxScaler\n",
    "scaler = MinMaxScaler()\n",
    "scaler.fit(X.iloc[:,0:7])\n",
    "X.iloc[:,0:7] = scaler.transform(X.iloc[:,0:7])"
   ]
  },
  {
   "cell_type": "code",
   "execution_count": 35,
   "metadata": {
    "collapsed": true
   },
   "outputs": [],
   "source": [
    "from sklearn.ensemble import ExtraTreesClassifier\n",
    "import numpy as np\n",
    "import matplotlib.pyplot as plt"
   ]
  },
  {
   "cell_type": "code",
   "execution_count": 38,
   "metadata": {},
   "outputs": [
    {
     "data": {
      "text/plain": [
       "tract_median_income                                                                                        0.081936\n",
       "number_of_owner_occupied_units                                                                             0.030189\n",
       "number_of_1_to_4_family_units                                                                              0.012192\n",
       "income_to_loan                                                                                            -0.050155\n",
       "as_of_year                                                                                                -0.003450\n",
       "minority_ratio                                                                                            -0.043107\n",
       "state_abbr_CA                                                                                              0.029922\n",
       "state_abbr_TX                                                                                             -0.029922\n",
       "property_type_name_Manufactured housing                                                                   -0.088634\n",
       "property_type_name_One-to-four family dwelling (other than manufactured housing)                           0.088634\n",
       "preapproval_name_Not applicable                                                                           -0.033776\n",
       "preapproval_name_Preapproval was not requested                                                             0.025344\n",
       "preapproval_name_Preapproval was requested                                                                 0.025676\n",
       "owner_occupancy_name_Not applicable                                                                       -0.003396\n",
       "owner_occupancy_name_Not owner-occupied as a principal dwelling                                           -0.019900\n",
       "owner_occupancy_name_Owner-occupied as a principal dwelling                                                0.020233\n",
       "loan_type_name_Conventional                                                                               -0.047689\n",
       "loan_type_name_FHA-insured                                                                                 0.038553\n",
       "loan_type_name_FSA/RHS-guaranteed                                                                          0.021712\n",
       "loan_type_name_VA-guaranteed                                                                               0.016277\n",
       "loan_purpose_name_Home improvement                                                                        -0.130555\n",
       "loan_purpose_name_Home purchase                                                                            0.120990\n",
       "loan_purpose_name_Refinancing                                                                             -0.067582\n",
       "lien_status_name_Not applicable                                                                            0.193369\n",
       "lien_status_name_Not secured by a lien                                                                    -0.110422\n",
       "lien_status_name_Secured by a first lien                                                                  -0.117350\n",
       "lien_status_name_Secured by a subordinate lien                                                            -0.084285\n",
       "hoepa_status_name_HOEPA loan                                                                               0.003378\n",
       "hoepa_status_name_Not a HOEPA loan                                                                        -0.003378\n",
       "co_applicant_sex_name_Female                                                                               0.070514\n",
       "co_applicant_sex_name_Information not provided by applicant in mail, Internet, or telephone application   -0.002352\n",
       "co_applicant_sex_name_Male                                                                                -0.024516\n",
       "co_applicant_sex_name_No co-applicant                                                                     -0.055934\n",
       "co_applicant_sex_name_Not applicable                                                                       0.002225\n",
       "applicant_sex_name_Female                                                                                 -0.037404\n",
       "applicant_sex_name_Male                                                                                    0.037404\n",
       "agency_abbr_CFPB                                                                                          -0.014756\n",
       "agency_abbr_FDIC                                                                                           0.007312\n",
       "agency_abbr_FRS                                                                                           -0.011858\n",
       "agency_abbr_HUD                                                                                            0.027526\n",
       "agency_abbr_NCUA                                                                                          -0.021067\n",
       "agency_abbr_OCC                                                                                            0.003419\n",
       "agency_abbr_OTS                                                                                           -0.018490\n",
       "actions_new_Approved                                                                                       1.000000\n",
       "actions_new_Denied                                                                                        -1.000000\n",
       "Name: actions_new_Approved, dtype: float64"
      ]
     },
     "execution_count": 38,
     "metadata": {},
     "output_type": "execute_result"
    }
   ],
   "source": [
    "train.corr()['actions_new_Approved']"
   ]
  },
  {
   "cell_type": "code",
   "execution_count": 36,
   "metadata": {},
   "outputs": [
    {
     "name": "stdout",
     "output_type": "stream",
     "text": [
      "[  1.07355805e-01   9.95428463e-02   9.95647475e-02   4.67863060e-01\n",
      "   5.04483918e-03   1.02226724e-01   2.71755174e-03   2.23932785e-03\n",
      "   4.68683790e-03   3.80221599e-03   7.65953287e-04   9.31645990e-04\n",
      "   4.13747217e-04   1.49813049e-04   1.20440915e-03   1.26632283e-03\n",
      "   3.87355771e-03   2.90007260e-03   1.65945268e-04   6.37506612e-04\n",
      "   8.42326929e-03   8.37592162e-03   1.93834071e-03   2.76921566e-02\n",
      "   4.37114029e-03   1.02964631e-02   1.79880340e-03   1.78776933e-05\n",
      "   1.90399496e-05   4.78910967e-03   3.69124012e-04   1.96489467e-03\n",
      "   2.39578654e-03   5.74076786e-05   1.74282027e-03   1.11385880e-03\n",
      "   2.32867139e-03   1.70535246e-03   1.25299381e-03   3.86752814e-03\n",
      "   2.42332561e-03   4.79576487e-03   9.07420035e-04]\n"
     ]
    }
   ],
   "source": [
    "model = ExtraTreesClassifier()\n",
    "model.fit(X, y)\n",
    "print(model.feature_importances_)"
   ]
  },
  {
   "cell_type": "code",
   "execution_count": 37,
   "metadata": {},
   "outputs": [
    {
     "data": {
      "text/plain": [
       "[('hoepa_status_name_HOEPA loan', 1.7877693259116443e-05),\n",
       " ('hoepa_status_name_Not a HOEPA loan', 1.9039949573270626e-05),\n",
       " ('co_applicant_sex_name_Not applicable', 5.7407678575196902e-05),\n",
       " ('owner_occupancy_name_Not applicable', 0.00014981304932181312),\n",
       " ('loan_type_name_FSA/RHS-guaranteed', 0.00016594526789682037),\n",
       " ('co_applicant_sex_name_Information not provided by applicant in mail, Internet, or telephone application',\n",
       "  0.00036912401155140726),\n",
       " ('preapproval_name_Preapproval was requested', 0.00041374721692998272),\n",
       " ('loan_type_name_VA-guaranteed', 0.00063750661175228786),\n",
       " ('preapproval_name_Not applicable', 0.00076595328737104297),\n",
       " ('agency_abbr_OTS', 0.00090742003547870649),\n",
       " ('preapproval_name_Preapproval was not requested', 0.00093164598950327938),\n",
       " ('applicant_sex_name_Male', 0.0011138588016512188),\n",
       " ('owner_occupancy_name_Not owner-occupied as a principal dwelling',\n",
       "  0.0012044091502733645),\n",
       " ('agency_abbr_FRS', 0.0012529938109412313),\n",
       " ('owner_occupancy_name_Owner-occupied as a principal dwelling',\n",
       "  0.0012663228338751626),\n",
       " ('agency_abbr_FDIC', 0.001705352460172668),\n",
       " ('applicant_sex_name_Female', 0.0017428202715806436),\n",
       " ('lien_status_name_Secured by a subordinate lien', 0.0017988033955681662),\n",
       " ('loan_purpose_name_Refinancing', 0.0019383407103513034),\n",
       " ('co_applicant_sex_name_Male', 0.0019648946675182052),\n",
       " ('state_abbr_TX', 0.0022393278456656037),\n",
       " ('agency_abbr_CFPB', 0.0023286713889215495),\n",
       " ('co_applicant_sex_name_No co-applicant', 0.0023957865426107549),\n",
       " ('agency_abbr_NCUA', 0.0024233256085797964),\n",
       " ('state_abbr_CA', 0.0027175517383617354),\n",
       " ('loan_type_name_FHA-insured', 0.0029000725988060651),\n",
       " ('property_type_name_One-to-four family dwelling (other than manufactured housing)',\n",
       "  0.0038022159895917652),\n",
       " ('agency_abbr_HUD', 0.0038675281441911701),\n",
       " ('loan_type_name_Conventional', 0.0038735577088832877),\n",
       " ('lien_status_name_Not secured by a lien', 0.0043711402864180949),\n",
       " ('property_type_name_Manufactured housing', 0.0046868379036056861),\n",
       " ('co_applicant_sex_name_Female', 0.0047891096718721618),\n",
       " ('agency_abbr_OCC', 0.0047957648737355415),\n",
       " ('as_of_year', 0.0050448391814034172),\n",
       " ('loan_purpose_name_Home purchase', 0.0083759216205133193),\n",
       " ('loan_purpose_name_Home improvement', 0.0084232692883313906),\n",
       " ('lien_status_name_Secured by a first lien', 0.010296463074565956),\n",
       " ('lien_status_name_Not applicable', 0.027692156578632533),\n",
       " ('number_of_owner_occupied_units', 0.09954284628658519),\n",
       " ('number_of_1_to_4_family_units', 0.099564747472895954),\n",
       " ('minority_ratio', 0.10222672353716038),\n",
       " ('tract_median_income', 0.1073558054077722),\n",
       " ('income_to_loan', 0.4678630603577516)]"
      ]
     },
     "execution_count": 37,
     "metadata": {},
     "output_type": "execute_result"
    }
   ],
   "source": [
    "importances = []\n",
    "for i in range(len(X.columns)):\n",
    "    importances.append((X.columns[i],model.feature_importances_[i]))\n",
    "importances_sorted = sorted(importances, key=lambda tup: tup[1])\n",
    "importances_sorted"
   ]
  },
  {
   "cell_type": "code",
   "execution_count": 63,
   "metadata": {},
   "outputs": [
    {
     "data": {
      "text/plain": [
       "count    4.797319e+06\n",
       "mean     5.995923e+03\n",
       "std      3.195333e+03\n",
       "min      1.000000e+00\n",
       "25%      4.047000e+03\n",
       "50%      5.404000e+03\n",
       "75%      7.050000e+03\n",
       "max      3.745200e+04\n",
       "Name: population, dtype: float64"
      ]
     },
     "execution_count": 63,
     "metadata": {},
     "output_type": "execute_result"
    }
   ],
   "source": [
    "data['population'].describe()"
   ]
  },
  {
   "cell_type": "code",
   "execution_count": 39,
   "metadata": {
    "collapsed": true
   },
   "outputs": [],
   "source": [
    "further = data[['income_to_loan',\n",
    "    'tract_median_income','number_of_owner_occupied_units', 'number_of_1_to_4_family_units',\n",
    "       'loan_amount_000s', 'applicant_income_000s','loan_purpose_name','lien_status_name','Minority','minority_ratio','actions_new']]"
   ]
  },
  {
   "cell_type": "code",
   "execution_count": 40,
   "metadata": {
    "collapsed": true
   },
   "outputs": [],
   "source": [
    "further = further.dropna()"
   ]
  },
  {
   "cell_type": "code",
   "execution_count": 41,
   "metadata": {
    "collapsed": true
   },
   "outputs": [],
   "source": [
    "further = pd.get_dummies(further)"
   ]
  },
  {
   "cell_type": "code",
   "execution_count": 9,
   "metadata": {},
   "outputs": [
    {
     "data": {
      "text/plain": [
       "Index(['tract_median_income', 'number_of_owner_occupied_units',\n",
       "       'number_of_1_to_4_family_units', 'loan_amount_000s',\n",
       "       'applicant_income_000s', 'minority_ratio',\n",
       "       'loan_purpose_name_Home improvement', 'loan_purpose_name_Home purchase',\n",
       "       'loan_purpose_name_Refinancing', 'lien_status_name_Not applicable',\n",
       "       'lien_status_name_Not secured by a lien',\n",
       "       'lien_status_name_Secured by a first lien',\n",
       "       'lien_status_name_Secured by a subordinate lien', 'Minority_No',\n",
       "       'Minority_Yes', 'actions_new_Approved', 'actions_new_Denied'],\n",
       "      dtype='object')"
      ]
     },
     "execution_count": 9,
     "metadata": {},
     "output_type": "execute_result"
    }
   ],
   "source": [
    "further.columns"
   ]
  },
  {
   "cell_type": "code",
   "execution_count": 42,
   "metadata": {
    "collapsed": true
   },
   "outputs": [],
   "source": [
    "further = further[['income_to_loan','tract_median_income', 'number_of_owner_occupied_units',\n",
    "       'number_of_1_to_4_family_units', 'loan_amount_000s',\n",
    "       'applicant_income_000s', 'minority_ratio','loan_purpose_name_Home improvement',\n",
    "       'loan_purpose_name_Home purchase', 'loan_purpose_name_Refinancing',\n",
    "       'lien_status_name_Not applicable',\n",
    "       'lien_status_name_Not secured by a lien',\n",
    "       'lien_status_name_Secured by a first lien',\n",
    "       'lien_status_name_Secured by a subordinate lien', 'Minority_No',\n",
    "       'Minority_Yes', 'actions_new_Approved']]"
   ]
  },
  {
   "cell_type": "code",
   "execution_count": 43,
   "metadata": {},
   "outputs": [
    {
     "data": {
      "text/html": [
       "<div>\n",
       "<style>\n",
       "    .dataframe thead tr:only-child th {\n",
       "        text-align: right;\n",
       "    }\n",
       "\n",
       "    .dataframe thead th {\n",
       "        text-align: left;\n",
       "    }\n",
       "\n",
       "    .dataframe tbody tr th {\n",
       "        vertical-align: top;\n",
       "    }\n",
       "</style>\n",
       "<table border=\"1\" class=\"dataframe\">\n",
       "  <thead>\n",
       "    <tr style=\"text-align: right;\">\n",
       "      <th></th>\n",
       "      <th>actions_new_Approved</th>\n",
       "      <th>Minority_Yes</th>\n",
       "    </tr>\n",
       "  </thead>\n",
       "  <tbody>\n",
       "    <tr>\n",
       "      <th>income_to_loan</th>\n",
       "      <td>-0.050155</td>\n",
       "      <td>-0.001200</td>\n",
       "    </tr>\n",
       "    <tr>\n",
       "      <th>tract_median_income</th>\n",
       "      <td>0.081936</td>\n",
       "      <td>-0.153780</td>\n",
       "    </tr>\n",
       "    <tr>\n",
       "      <th>number_of_owner_occupied_units</th>\n",
       "      <td>0.030189</td>\n",
       "      <td>-0.074642</td>\n",
       "    </tr>\n",
       "    <tr>\n",
       "      <th>number_of_1_to_4_family_units</th>\n",
       "      <td>0.012192</td>\n",
       "      <td>-0.074055</td>\n",
       "    </tr>\n",
       "    <tr>\n",
       "      <th>loan_amount_000s</th>\n",
       "      <td>0.040317</td>\n",
       "      <td>-0.073986</td>\n",
       "    </tr>\n",
       "    <tr>\n",
       "      <th>applicant_income_000s</th>\n",
       "      <td>0.037618</td>\n",
       "      <td>-0.098670</td>\n",
       "    </tr>\n",
       "    <tr>\n",
       "      <th>minority_ratio</th>\n",
       "      <td>-0.043107</td>\n",
       "      <td>0.230333</td>\n",
       "    </tr>\n",
       "    <tr>\n",
       "      <th>loan_purpose_name_Home improvement</th>\n",
       "      <td>-0.130555</td>\n",
       "      <td>0.018159</td>\n",
       "    </tr>\n",
       "    <tr>\n",
       "      <th>loan_purpose_name_Home purchase</th>\n",
       "      <td>0.120990</td>\n",
       "      <td>0.067852</td>\n",
       "    </tr>\n",
       "    <tr>\n",
       "      <th>loan_purpose_name_Refinancing</th>\n",
       "      <td>-0.067582</td>\n",
       "      <td>-0.074152</td>\n",
       "    </tr>\n",
       "    <tr>\n",
       "      <th>lien_status_name_Not applicable</th>\n",
       "      <td>0.193369</td>\n",
       "      <td>-0.007028</td>\n",
       "    </tr>\n",
       "    <tr>\n",
       "      <th>lien_status_name_Not secured by a lien</th>\n",
       "      <td>-0.110422</td>\n",
       "      <td>0.039452</td>\n",
       "    </tr>\n",
       "    <tr>\n",
       "      <th>lien_status_name_Secured by a first lien</th>\n",
       "      <td>-0.117350</td>\n",
       "      <td>0.000821</td>\n",
       "    </tr>\n",
       "    <tr>\n",
       "      <th>lien_status_name_Secured by a subordinate lien</th>\n",
       "      <td>-0.084285</td>\n",
       "      <td>-0.013817</td>\n",
       "    </tr>\n",
       "    <tr>\n",
       "      <th>Minority_No</th>\n",
       "      <td>0.072599</td>\n",
       "      <td>-1.000000</td>\n",
       "    </tr>\n",
       "    <tr>\n",
       "      <th>Minority_Yes</th>\n",
       "      <td>-0.072599</td>\n",
       "      <td>1.000000</td>\n",
       "    </tr>\n",
       "    <tr>\n",
       "      <th>actions_new_Approved</th>\n",
       "      <td>1.000000</td>\n",
       "      <td>-0.072599</td>\n",
       "    </tr>\n",
       "  </tbody>\n",
       "</table>\n",
       "</div>"
      ],
      "text/plain": [
       "                                                actions_new_Approved  \\\n",
       "income_to_loan                                             -0.050155   \n",
       "tract_median_income                                         0.081936   \n",
       "number_of_owner_occupied_units                              0.030189   \n",
       "number_of_1_to_4_family_units                               0.012192   \n",
       "loan_amount_000s                                            0.040317   \n",
       "applicant_income_000s                                       0.037618   \n",
       "minority_ratio                                             -0.043107   \n",
       "loan_purpose_name_Home improvement                         -0.130555   \n",
       "loan_purpose_name_Home purchase                             0.120990   \n",
       "loan_purpose_name_Refinancing                              -0.067582   \n",
       "lien_status_name_Not applicable                             0.193369   \n",
       "lien_status_name_Not secured by a lien                     -0.110422   \n",
       "lien_status_name_Secured by a first lien                   -0.117350   \n",
       "lien_status_name_Secured by a subordinate lien             -0.084285   \n",
       "Minority_No                                                 0.072599   \n",
       "Minority_Yes                                               -0.072599   \n",
       "actions_new_Approved                                        1.000000   \n",
       "\n",
       "                                                Minority_Yes  \n",
       "income_to_loan                                     -0.001200  \n",
       "tract_median_income                                -0.153780  \n",
       "number_of_owner_occupied_units                     -0.074642  \n",
       "number_of_1_to_4_family_units                      -0.074055  \n",
       "loan_amount_000s                                   -0.073986  \n",
       "applicant_income_000s                              -0.098670  \n",
       "minority_ratio                                      0.230333  \n",
       "loan_purpose_name_Home improvement                  0.018159  \n",
       "loan_purpose_name_Home purchase                     0.067852  \n",
       "loan_purpose_name_Refinancing                      -0.074152  \n",
       "lien_status_name_Not applicable                    -0.007028  \n",
       "lien_status_name_Not secured by a lien              0.039452  \n",
       "lien_status_name_Secured by a first lien            0.000821  \n",
       "lien_status_name_Secured by a subordinate lien     -0.013817  \n",
       "Minority_No                                        -1.000000  \n",
       "Minority_Yes                                        1.000000  \n",
       "actions_new_Approved                               -0.072599  "
      ]
     },
     "execution_count": 43,
     "metadata": {},
     "output_type": "execute_result"
    }
   ],
   "source": [
    "further.corr()[['actions_new_Approved','Minority_Yes']]"
   ]
  },
  {
   "cell_type": "code",
   "execution_count": 44,
   "metadata": {
    "collapsed": true
   },
   "outputs": [],
   "source": [
    "control = data[['as_of_year','state_abbr','loan_amount_000s','applicant_income_000s','tract_uni','Minority','actions_new']]"
   ]
  },
  {
   "cell_type": "code",
   "execution_count": 45,
   "metadata": {
    "collapsed": true
   },
   "outputs": [],
   "source": [
    "control = control.dropna()"
   ]
  },
  {
   "cell_type": "code",
   "execution_count": 46,
   "metadata": {},
   "outputs": [
    {
     "data": {
      "text/plain": [
       "(4204732, 7)"
      ]
     },
     "execution_count": 46,
     "metadata": {},
     "output_type": "execute_result"
    }
   ],
   "source": [
    "control.shape"
   ]
  },
  {
   "cell_type": "code",
   "execution_count": 57,
   "metadata": {
    "collapsed": true
   },
   "outputs": [],
   "source": [
    "new = pd.get_dummies(control['actions_new'])\n",
    "control['actions_new_Approved'] = new['Approved']"
   ]
  },
  {
   "cell_type": "code",
   "execution_count": 161,
   "metadata": {},
   "outputs": [
    {
     "data": {
      "text/plain": [
       "2459578"
      ]
     },
     "execution_count": 161,
     "metadata": {},
     "output_type": "execute_result"
    }
   ],
   "source": [
    "control['tract_uni'].value_counts()[0:4000].sum()"
   ]
  },
  {
   "cell_type": "code",
   "execution_count": 162,
   "metadata": {},
   "outputs": [
    {
     "data": {
      "text/plain": [
       "355"
      ]
     },
     "execution_count": 162,
     "metadata": {},
     "output_type": "execute_result"
    }
   ],
   "source": [
    "control['tract_uni'].value_counts()[4000]"
   ]
  },
  {
   "cell_type": "code",
   "execution_count": 26,
   "metadata": {},
   "outputs": [
    {
     "data": {
      "text/plain": [
       "305.03-Collin County-TX            5564\n",
       "6731.01-Fort Bend County-TX        5091\n",
       "3551.04-Contra Costa County-CA     4935\n",
       "6729.0-Fort Bend County-TX         4785\n",
       "6731.0-Fort Bend County-TX         4682\n",
       "201.02-Denton County-TX            4366\n",
       "314.01-Collin County-TX            3717\n",
       "170.3-San Diego County-CA          3513\n",
       "103.2-El Paso County-TX            3206\n",
       "406.02-Riverside County-CA         3202\n",
       "1139.14-Tarrant County-TX          3108\n",
       "305.02-Collin County-TX            2959\n",
       "6734.0-Fort Bend County-TX         2930\n",
       "6906.0-Montgomery County-TX        2914\n",
       "17.6-Travis County-TX              2835\n",
       "1139.13-Tarrant County-TX          2803\n",
       "5430.0-Harris County-TX            2755\n",
       "1918.05-Bexar County-TX            2738\n",
       "524.2-Orange County-CA             2729\n",
       "217.14-Denton County-TX            2656\n",
       "6920.0-Montgomery County-TX        2545\n",
       "133.1-San Diego County-CA          2523\n",
       "96.04-Sacramento County-CA         2435\n",
       "133.13-San Diego County-CA         2428\n",
       "17.32-Travis County-TX             2418\n",
       "1720.01-Bexar County-TX            2396\n",
       "1141.01-Tarrant County-TX          2333\n",
       "4415.03-Alameda County-CA          2333\n",
       "432.03-Riverside County-CA         2254\n",
       "6606.0-Brazoria County-TX          2237\n",
       "                                   ... \n",
       "5739.01-Los Angeles County-CA         1\n",
       "3419.0-Harris County-TX               1\n",
       "9800.08-Los Angeles County-CA         1\n",
       "131.0-Monterey County-CA              1\n",
       "9800.18-Los Angeles County-CA         1\n",
       "4.0-Webb County-TX                    1\n",
       "5041.02-Los Angeles County-CA         1\n",
       "190.38-Dallas County-TX               1\n",
       "55.0-San Diego County-CA              1\n",
       "9801.0-San Bernardino County-CA       1\n",
       "62.0-San Diego County-CA              1\n",
       "3142.0-Harris County-TX               1\n",
       "4212.01-Harris County-TX              1\n",
       "1317.0-Bexar County-TX                1\n",
       "1031.0-Tarrant County-TX              1\n",
       "9800.33-Los Angeles County-CA         1\n",
       "123.02-San Francisco County-CA        1\n",
       "179.02-San Francisco County-CA        1\n",
       "3200.0-Los Angeles County-CA          1\n",
       "9800.31-Los Angeles County-CA         1\n",
       "17.02-Kings County-CA                 1\n",
       "5.0-El Paso County-TX                 1\n",
       "9800.06-Los Angeles County-CA         1\n",
       "5.0-Lubbock County-TX                 1\n",
       "217.39-Denton County-TX               1\n",
       "1131.13-Tarrant County-TX             1\n",
       "9800.05-Bexar County-TX               1\n",
       "9800.01-Cameron County-TX             1\n",
       "2123.04-Los Angeles County-CA         1\n",
       "9800.0-Harris County-TX               1\n",
       "Name: tract_uni, Length: 15173, dtype: int64"
      ]
     },
     "execution_count": 26,
     "metadata": {},
     "output_type": "execute_result"
    }
   ],
   "source": [
    "control['tract_uni'].value_counts()"
   ]
  },
  {
   "cell_type": "code",
   "execution_count": 135,
   "metadata": {
    "collapsed": true
   },
   "outputs": [],
   "source": [
    "small = control.iloc[0:1000,:]"
   ]
  },
  {
   "cell_type": "code",
   "execution_count": 136,
   "metadata": {},
   "outputs": [
    {
     "data": {
      "text/plain": [
       "Ttest_indResult(statistic=36.951364027585683, pvalue=3.0885223608152163e-228)"
      ]
     },
     "execution_count": 136,
     "metadata": {},
     "output_type": "execute_result"
    }
   ],
   "source": [
    "ttest_ind(small['loan_amount_000s'],small['applicant_income_000s'])"
   ]
  },
  {
   "cell_type": "code",
   "execution_count": 120,
   "metadata": {
    "collapsed": true
   },
   "outputs": [],
   "source": [
    "test = control"
   ]
  },
  {
   "cell_type": "code",
   "execution_count": 121,
   "metadata": {
    "collapsed": true
   },
   "outputs": [],
   "source": [
    "top_tracts = test['tract_uni'].value_counts()[0:4000].index.tolist()"
   ]
  },
  {
   "cell_type": "code",
   "execution_count": 122,
   "metadata": {},
   "outputs": [
    {
     "name": "stdout",
     "output_type": "stream",
     "text": [
      "4000\n",
      "0.7655\n",
      "0.771448191519\n"
     ]
    }
   ],
   "source": [
    "# Base\n",
    "result = []\n",
    "result_weighted = []\n",
    "total = 0\n",
    "for i in top_tracts:\n",
    "    subset = test.loc[test['tract_uni']==i]\n",
    "    num = len(subset)\n",
    "    minority = subset.loc[subset['Minority']=='Yes']\n",
    "    majority = subset.loc[subset['Minority']=='No']\n",
    "    \n",
    "    total += num\n",
    "    if minority['actions_new_Approved'].mean() < majority['actions_new_Approved'].mean():\n",
    "        result.append(1)\n",
    "        result_weighted.append(len(subset))\n",
    "    else:\n",
    "        result.append(0)\n",
    "        result_weighted.append(0)\n",
    "result = np.array(result)\n",
    "result_weighted = np.array(result_weighted)\n",
    "print (len(result))\n",
    "print(np.mean(result))\n",
    "print(np.sum(result_weighted)/total)"
   ]
  },
  {
   "cell_type": "code",
   "execution_count": 95,
   "metadata": {},
   "outputs": [
    {
     "name": "stdout",
     "output_type": "stream",
     "text": [
      "3721\n",
      "0.777479172266\n",
      "0.790854054696\n"
     ]
    }
   ],
   "source": [
    "# Two states, tracts number = 4000, two years\n",
    "\n",
    "result = []\n",
    "result_weighted = []\n",
    "total = 0\n",
    "for i in top_tracts:\n",
    "    subset = test.loc[test['tract_uni']==i]\n",
    "    num = len(subset)\n",
    "    minority = subset.loc[subset['Minority']=='Yes']\n",
    "    majority = subset.loc[subset['Minority']=='No']\n",
    "    minority = minority.sort_values(by=['applicant_income_000s','loan_amount_000s'])\n",
    "    majority = majority.sort_values(by=['applicant_income_000s','loan_amount_000s'])\n",
    "    \n",
    "    flag = 0\n",
    "    while flag == 0 and len(majority) > 30 and len(minority) > 30:\n",
    "        income_minority = np.log(minority['applicant_income_000s'] * 1000)\n",
    "        income_majority = np.log(majority['applicant_income_000s'] * 1000)\n",
    "        amount_minority = np.log(minority['loan_amount_000s'] * 1000)\n",
    "        amount_majority = np.log(majority['loan_amount_000s'] * 1000)\n",
    "        t1, p_income = ttest_ind(income_minority, income_majority, equal_var=False)\n",
    "        t2, p_amount = ttest_ind(amount_minority, amount_majority, equal_var=False)\n",
    "        if p_income<0.2 or p_amount<0.1:\n",
    "            mean_minority = income_minority.mean()\n",
    "            mean_majority = income_majority.mean()\n",
    "            if mean_majority > mean_minority:\n",
    "                majority = majority[:-1]\n",
    "            else: \n",
    "                majority = majority[1:]\n",
    "        else:\n",
    "            flag = 1\n",
    "            \n",
    "    if flag == 1:\n",
    "        total += num\n",
    "        if minority['actions_new_Approved'].mean() < majority['actions_new_Approved'].mean():\n",
    "            result.append(1)\n",
    "            result_weighted.append(len(subset))\n",
    "        else:\n",
    "            result.append(0)\n",
    "            result_weighted.append(0)\n",
    "result = np.array(result)\n",
    "result_weighted = np.array(result_weighted)\n",
    "print (len(result))\n",
    "print(np.mean(result))\n",
    "print(np.sum(result_weighted)/total)"
   ]
  },
  {
   "cell_type": "code",
   "execution_count": 106,
   "metadata": {
    "collapsed": true
   },
   "outputs": [],
   "source": [
    "test_TX = control.loc[control['state_abbr'] == 'TX']"
   ]
  },
  {
   "cell_type": "code",
   "execution_count": 107,
   "metadata": {},
   "outputs": [
    {
     "data": {
      "text/plain": [
       "(1539266, 8)"
      ]
     },
     "execution_count": 107,
     "metadata": {},
     "output_type": "execute_result"
    }
   ],
   "source": [
    "test_TX.shape"
   ]
  },
  {
   "cell_type": "code",
   "execution_count": 53,
   "metadata": {},
   "outputs": [
    {
     "data": {
      "text/plain": [
       "1096592"
      ]
     },
     "execution_count": 53,
     "metadata": {},
     "output_type": "execute_result"
    }
   ],
   "source": [
    "test_TX['tract_uni'].value_counts()[0:2000].sum()"
   ]
  },
  {
   "cell_type": "code",
   "execution_count": 108,
   "metadata": {
    "collapsed": true
   },
   "outputs": [],
   "source": [
    "top_tracts_TX = test_TX['tract_uni'].value_counts()[0:2000].index.tolist()"
   ]
  },
  {
   "cell_type": "code",
   "execution_count": 109,
   "metadata": {},
   "outputs": [
    {
     "name": "stdout",
     "output_type": "stream",
     "text": [
      "1553\n",
      "0.871216999356\n",
      "0.889337840357\n"
     ]
    }
   ],
   "source": [
    "# TX, two years, 2000 tracts\n",
    "\n",
    "result = []\n",
    "result_weighted = []\n",
    "total = 0\n",
    "\n",
    "for i in top_tracts_TX:\n",
    "    subset = test_TX.loc[test_TX['tract_uni']==i]\n",
    "    num = len(subset)\n",
    "    minority = subset.loc[subset['Minority']=='Yes']\n",
    "    majority = subset.loc[subset['Minority']=='No']\n",
    "    minority = minority.sort_values(by=['applicant_income_000s','loan_amount_000s'])\n",
    "    majority = majority.sort_values(by=['applicant_income_000s','loan_amount_000s'])\n",
    "    \n",
    "    flag = 0\n",
    "    while flag == 0 and len(majority) > 30 and len(minority) > 30:\n",
    "        income_minority = np.log(minority['applicant_income_000s'] * 1000)\n",
    "        income_majority = np.log(majority['applicant_income_000s'] * 1000)\n",
    "        amount_minority = np.log(minority['loan_amount_000s'] * 1000)\n",
    "        amount_majority = np.log(majority['loan_amount_000s'] * 1000)\n",
    "        t1, p_income = ttest_ind(income_minority, income_majority, equal_var=False)\n",
    "        t2, p_amount = ttest_ind(amount_minority, amount_majority, equal_var=False)\n",
    "        if p_income<0.2 or p_amount<0.2:\n",
    "            mean_minority = income_minority.mean()\n",
    "            mean_majority = income_majority.mean()\n",
    "            if mean_majority > mean_minority:\n",
    "                majority = majority[:-1]\n",
    "            else: \n",
    "                majority = majority[1:]\n",
    "        else:\n",
    "            flag = 1\n",
    "            \n",
    "    if flag == 1:\n",
    "        total += num\n",
    "        if minority['actions_new_Approved'].mean() < majority['actions_new_Approved'].mean():\n",
    "            result.append(1)\n",
    "            result_weighted.append(len(subset))\n",
    "        else:\n",
    "            result.append(0)\n",
    "            result_weighted.append(0)\n",
    "result = np.array(result)\n",
    "result_weighted = np.array(result_weighted)\n",
    "print (len(result))\n",
    "print(np.mean(result))\n",
    "print(np.sum(result_weighted)/total)"
   ]
  },
  {
   "cell_type": "code",
   "execution_count": 110,
   "metadata": {
    "collapsed": true
   },
   "outputs": [],
   "source": [
    "test_CA = control.loc[control['state_abbr'] == 'CA']"
   ]
  },
  {
   "cell_type": "code",
   "execution_count": 63,
   "metadata": {},
   "outputs": [
    {
     "data": {
      "text/plain": [
       "(2665466, 8)"
      ]
     },
     "execution_count": 63,
     "metadata": {},
     "output_type": "execute_result"
    }
   ],
   "source": [
    "test_CA.shape"
   ]
  },
  {
   "cell_type": "code",
   "execution_count": 81,
   "metadata": {},
   "outputs": [
    {
     "data": {
      "text/plain": [
       "1680519"
      ]
     },
     "execution_count": 81,
     "metadata": {},
     "output_type": "execute_result"
    }
   ],
   "source": [
    "test_CA['tract_uni'].value_counts()[0:3000].sum()"
   ]
  },
  {
   "cell_type": "code",
   "execution_count": 75,
   "metadata": {},
   "outputs": [
    {
     "data": {
      "text/plain": [
       "129"
      ]
     },
     "execution_count": 75,
     "metadata": {},
     "output_type": "execute_result"
    }
   ],
   "source": [
    "test_TX['tract_uni'].value_counts()[3500]"
   ]
  },
  {
   "cell_type": "code",
   "execution_count": 111,
   "metadata": {
    "collapsed": true
   },
   "outputs": [],
   "source": [
    "top_tracts_CA = test_CA['tract_uni'].value_counts()[0:3500].index.tolist()"
   ]
  },
  {
   "cell_type": "code",
   "execution_count": 112,
   "metadata": {},
   "outputs": [
    {
     "name": "stdout",
     "output_type": "stream",
     "text": [
      "2996\n",
      "0.742990654206\n",
      "0.74601594745\n"
     ]
    }
   ],
   "source": [
    "# CA, two years, 3500 tracts\n",
    "\n",
    "result = []\n",
    "result_weighted = []\n",
    "total = 0\n",
    "\n",
    "for i in top_tracts_CA:\n",
    "    subset = test_CA.loc[test_CA['tract_uni']==i]\n",
    "    num = len(subset)\n",
    "    minority = subset.loc[subset['Minority']=='Yes']\n",
    "    majority = subset.loc[subset['Minority']=='No']\n",
    "    minority = minority.sort_values(by=['applicant_income_000s','loan_amount_000s'])\n",
    "    majority = majority.sort_values(by=['applicant_income_000s','loan_amount_000s'])\n",
    "    \n",
    "    flag = 0\n",
    "    while flag == 0 and len(majority) > 30 and len(minority) > 30:\n",
    "        income_minority = np.log(minority['applicant_income_000s'] * 1000)\n",
    "        income_majority = np.log(majority['applicant_income_000s'] * 1000)\n",
    "        amount_minority = np.log(minority['loan_amount_000s'] * 1000)\n",
    "        amount_majority = np.log(majority['loan_amount_000s'] * 1000)\n",
    "        t1, p_income = ttest_ind(income_minority, income_majority, equal_var=False)\n",
    "        t2, p_amount = ttest_ind(amount_minority, amount_majority, equal_var=False)\n",
    "        if p_income<0.2 or p_amount<0.2:\n",
    "            mean_minority = income_minority.mean()\n",
    "            mean_majority = income_majority.mean()\n",
    "            if mean_majority > mean_minority:\n",
    "                majority = majority[:-1]\n",
    "            else: \n",
    "                majority = majority[1:]\n",
    "        else:\n",
    "            flag = 1\n",
    "            \n",
    "    if flag == 1:\n",
    "        total += num\n",
    "        if minority['actions_new_Approved'].mean() < majority['actions_new_Approved'].mean():\n",
    "            result.append(1)\n",
    "            result_weighted.append(len(subset))\n",
    "        else:\n",
    "            result.append(0)\n",
    "            result_weighted.append(0)\n",
    "result = np.array(result)\n",
    "result_weighted = np.array(result_weighted)\n",
    "print (len(result))\n",
    "print(np.mean(result))\n",
    "print(np.sum(result_weighted)/total)"
   ]
  },
  {
   "cell_type": "code",
   "execution_count": 85,
   "metadata": {
    "collapsed": true
   },
   "outputs": [],
   "source": [
    "test_10 = control.loc[control['as_of_year'] == 2010]"
   ]
  },
  {
   "cell_type": "code",
   "execution_count": 86,
   "metadata": {},
   "outputs": [
    {
     "data": {
      "text/plain": [
       "(2015743, 8)"
      ]
     },
     "execution_count": 86,
     "metadata": {},
     "output_type": "execute_result"
    }
   ],
   "source": [
    "test_10.shape"
   ]
  },
  {
   "cell_type": "code",
   "execution_count": 90,
   "metadata": {},
   "outputs": [
    {
     "data": {
      "text/plain": [
       "1235864"
      ]
     },
     "execution_count": 90,
     "metadata": {},
     "output_type": "execute_result"
    }
   ],
   "source": [
    "test_10['tract_uni'].value_counts()[0:3000].sum()"
   ]
  },
  {
   "cell_type": "code",
   "execution_count": 91,
   "metadata": {
    "collapsed": true
   },
   "outputs": [],
   "source": [
    "top_tracts_10 = test_10['tract_uni'].value_counts()[0:3000].index.tolist()"
   ]
  },
  {
   "cell_type": "code",
   "execution_count": 113,
   "metadata": {},
   "outputs": [
    {
     "name": "stdout",
     "output_type": "stream",
     "text": [
      "2218\n",
      "0.720468890893\n",
      "0.763049663299\n"
     ]
    }
   ],
   "source": [
    "result = []\n",
    "result_weighted = []\n",
    "total = 0\n",
    "\n",
    "for i in top_tracts_10:\n",
    "    subset = test_10.loc[test_10['tract_uni']==i]\n",
    "    num = len(subset)\n",
    "    minority = subset.loc[subset['Minority']=='Yes']\n",
    "    majority = subset.loc[subset['Minority']=='No']\n",
    "    minority = minority.sort_values(by=['applicant_income_000s','loan_amount_000s'])\n",
    "    majority = majority.sort_values(by=['applicant_income_000s','loan_amount_000s'])\n",
    "    \n",
    "    flag = 0\n",
    "    while flag == 0 and len(majority) > 30 and len(minority) > 30:\n",
    "        income_minority = np.log(minority['applicant_income_000s'] * 1000)\n",
    "        income_majority = np.log(majority['applicant_income_000s'] * 1000)\n",
    "        amount_minority = np.log(minority['loan_amount_000s'] * 1000)\n",
    "        amount_majority = np.log(majority['loan_amount_000s'] * 1000)\n",
    "        t1, p_income = ttest_ind(income_minority, income_majority, equal_var=False)\n",
    "        t2, p_amount = ttest_ind(amount_minority, amount_majority, equal_var=False)\n",
    "        if p_income<0.2 or p_amount<0.2:\n",
    "            mean_minority = income_minority.mean()\n",
    "            mean_majority = income_majority.mean()\n",
    "            if mean_majority > mean_minority:\n",
    "                majority = majority[:-1]\n",
    "            else: \n",
    "                majority = majority[1:]\n",
    "        else:\n",
    "            flag = 1\n",
    "            \n",
    "    if flag == 1:\n",
    "        total += num\n",
    "        if minority['actions_new_Approved'].mean() < majority['actions_new_Approved'].mean():\n",
    "            result.append(1)\n",
    "            result_weighted.append(len(subset))\n",
    "        else:\n",
    "            result.append(0)\n",
    "            result_weighted.append(0)\n",
    "result = np.array(result)\n",
    "result_weighted = np.array(result_weighted)\n",
    "print (len(result))\n",
    "print(np.mean(result))\n",
    "print(np.sum(result_weighted)/total)"
   ]
  },
  {
   "cell_type": "code",
   "execution_count": 114,
   "metadata": {
    "collapsed": true
   },
   "outputs": [],
   "source": [
    "test_13 = control.loc[control['as_of_year'] == 2013]"
   ]
  },
  {
   "cell_type": "code",
   "execution_count": 115,
   "metadata": {
    "collapsed": true
   },
   "outputs": [],
   "source": [
    "top_tracts_13 = test_13['tract_uni'].value_counts()[0:3000].index.tolist()"
   ]
  },
  {
   "cell_type": "code",
   "execution_count": 116,
   "metadata": {},
   "outputs": [
    {
     "name": "stdout",
     "output_type": "stream",
     "text": [
      "2374\n",
      "0.781381634372\n",
      "0.792229561018\n"
     ]
    }
   ],
   "source": [
    "result = []\n",
    "result_weighted = []\n",
    "total = 0\n",
    "\n",
    "for i in top_tracts_13:\n",
    "    subset = test_13.loc[test_13['tract_uni']==i]\n",
    "    num = len(subset)\n",
    "    minority = subset.loc[subset['Minority']=='Yes']\n",
    "    majority = subset.loc[subset['Minority']=='No']\n",
    "    minority = minority.sort_values(by=['applicant_income_000s','loan_amount_000s'])\n",
    "    majority = majority.sort_values(by=['applicant_income_000s','loan_amount_000s'])\n",
    "    \n",
    "    flag = 0\n",
    "    while flag == 0 and len(majority) > 30 and len(minority) > 30:\n",
    "        income_minority = np.log(minority['applicant_income_000s'] * 1000)\n",
    "        income_majority = np.log(majority['applicant_income_000s'] * 1000)\n",
    "        amount_minority = np.log(minority['loan_amount_000s'] * 1000)\n",
    "        amount_majority = np.log(majority['loan_amount_000s'] * 1000)\n",
    "        t1, p_income = ttest_ind(income_minority, income_majority, equal_var=False)\n",
    "        t2, p_amount = ttest_ind(amount_minority, amount_majority, equal_var=False)\n",
    "        if p_income<0.2 or p_amount<0.2:\n",
    "            mean_minority = income_minority.mean()\n",
    "            mean_majority = income_majority.mean()\n",
    "            if mean_majority > mean_minority:\n",
    "                majority = majority[:-1]\n",
    "            else: \n",
    "                majority = majority[1:]\n",
    "        else:\n",
    "            flag = 1\n",
    "            \n",
    "    if flag == 1:\n",
    "        total += num\n",
    "        if minority['actions_new_Approved'].mean() < majority['actions_new_Approved'].mean():\n",
    "            result.append(1)\n",
    "            result_weighted.append(len(subset))\n",
    "        else:\n",
    "            result.append(0)\n",
    "            result_weighted.append(0)\n",
    "result = np.array(result)\n",
    "result_weighted = np.array(result_weighted)\n",
    "print (len(result))\n",
    "print(np.mean(result))\n",
    "print(np.sum(result_weighted)/total)"
   ]
  },
  {
   "cell_type": "code",
   "execution_count": 117,
   "metadata": {},
   "outputs": [
    {
     "data": {
      "text/html": [
       "<div>\n",
       "<style>\n",
       "    .dataframe thead tr:only-child th {\n",
       "        text-align: right;\n",
       "    }\n",
       "\n",
       "    .dataframe thead th {\n",
       "        text-align: left;\n",
       "    }\n",
       "\n",
       "    .dataframe tbody tr th {\n",
       "        vertical-align: top;\n",
       "    }\n",
       "</style>\n",
       "<table border=\"1\" class=\"dataframe\">\n",
       "  <thead>\n",
       "    <tr style=\"text-align: right;\">\n",
       "      <th></th>\n",
       "      <th>Minority</th>\n",
       "      <th>tract_uni</th>\n",
       "      <th>actions_new_Approved</th>\n",
       "    </tr>\n",
       "  </thead>\n",
       "  <tbody>\n",
       "    <tr>\n",
       "      <th>3</th>\n",
       "      <td>Yes</td>\n",
       "      <td>5545.11-Los Angeles County-CA</td>\n",
       "      <td>1</td>\n",
       "    </tr>\n",
       "    <tr>\n",
       "      <th>13</th>\n",
       "      <td>No</td>\n",
       "      <td>4503.0-Alameda County-CA</td>\n",
       "      <td>1</td>\n",
       "    </tr>\n",
       "    <tr>\n",
       "      <th>18</th>\n",
       "      <td>No</td>\n",
       "      <td>3570.0-Contra Costa County-CA</td>\n",
       "      <td>1</td>\n",
       "    </tr>\n",
       "    <tr>\n",
       "      <th>28</th>\n",
       "      <td>No</td>\n",
       "      <td>3300.0-Contra Costa County-CA</td>\n",
       "      <td>1</td>\n",
       "    </tr>\n",
       "    <tr>\n",
       "      <th>38</th>\n",
       "      <td>Yes</td>\n",
       "      <td>3451.1-Contra Costa County-CA</td>\n",
       "      <td>1</td>\n",
       "    </tr>\n",
       "  </tbody>\n",
       "</table>\n",
       "</div>"
      ],
      "text/plain": [
       "   Minority                      tract_uni  actions_new_Approved\n",
       "3       Yes  5545.11-Los Angeles County-CA                     1\n",
       "13       No       4503.0-Alameda County-CA                     1\n",
       "18       No  3570.0-Contra Costa County-CA                     1\n",
       "28       No  3300.0-Contra Costa County-CA                     1\n",
       "38      Yes  3451.1-Contra Costa County-CA                     1"
      ]
     },
     "execution_count": 117,
     "metadata": {},
     "output_type": "execute_result"
    }
   ],
   "source": [
    "base = control[['Minority','tract_uni','actions_new_Approved']]\n",
    "base.head()"
   ]
  },
  {
   "cell_type": "code",
   "execution_count": 119,
   "metadata": {},
   "outputs": [
    {
     "data": {
      "text/plain": [
       "tract_uni\n",
       "1.0-Amador County-CA        331\n",
       "1.0-Angelina County-TX      190\n",
       "1.0-Brazos County-TX        730\n",
       "1.0-Calhoun County-TX       107\n",
       "1.0-Colusa County-CA        209\n",
       "1.0-Cooke County-TX         136\n",
       "1.0-Dallas County-TX        615\n",
       "1.0-Ector County-TX         114\n",
       "1.0-Freestone County-TX     130\n",
       "1.0-Fresno County-CA         10\n",
       "1.0-Gonzales County-TX       37\n",
       "1.0-Humboldt County-CA      115\n",
       "1.0-Inyo County-CA          124\n",
       "1.0-Kings County-CA         145\n",
       "1.0-Lake County-CA          162\n",
       "1.0-Lamar County-TX          98\n",
       "1.0-Lavaca County-TX         58\n",
       "1.0-Lee County-TX           134\n",
       "1.0-Lubbock County-TX       107\n",
       "1.0-Madison County-TX        17\n",
       "1.0-Mariposa County-CA      126\n",
       "1.0-McLennan County-TX       21\n",
       "1.0-Merced County-CA          8\n",
       "1.0-Midland County-TX       372\n",
       "1.0-Modoc County-CA         125\n",
       "1.0-Mono County-CA          298\n",
       "1.0-Nueces County-TX         16\n",
       "1.0-Palo Pinto County-TX    133\n",
       "1.0-Plumas County-CA        319\n",
       "1.0-Sacramento County-CA    412\n",
       "                           ... \n",
       "994.13-Orange County-CA     796\n",
       "994.15-Orange County-CA     623\n",
       "994.16-Orange County-CA     302\n",
       "994.17-Orange County-CA     518\n",
       "995.02-Orange County-CA       3\n",
       "995.04-Orange County-CA     371\n",
       "995.06-Orange County-CA     151\n",
       "995.08-Orange County-CA     290\n",
       "995.09-Orange County-CA      33\n",
       "995.1-Orange County-CA       12\n",
       "995.11-Orange County-CA     247\n",
       "995.12-Orange County-CA     206\n",
       "995.13-Orange County-CA     347\n",
       "995.14-Orange County-CA     864\n",
       "996.01-Orange County-CA     367\n",
       "996.02-Orange County-CA     292\n",
       "996.03-Orange County-CA     619\n",
       "996.04-Orange County-CA     402\n",
       "996.05-Orange County-CA     424\n",
       "997.01-Orange County-CA     329\n",
       "997.02-Orange County-CA     515\n",
       "997.03-Orange County-CA     336\n",
       "998.01-Orange County-CA     272\n",
       "998.02-Orange County-CA     138\n",
       "998.03-Orange County-CA     268\n",
       "999.02-Orange County-CA     370\n",
       "999.03-Orange County-CA     261\n",
       "999.04-Orange County-CA     268\n",
       "999.05-Orange County-CA     110\n",
       "999.06-Orange County-CA     550\n",
       "Length: 15173, dtype: int64"
      ]
     },
     "execution_count": 119,
     "metadata": {},
     "output_type": "execute_result"
    }
   ],
   "source": [
    "control['Minority']"
   ]
  },
  {
   "cell_type": "code",
   "execution_count": null,
   "metadata": {
    "collapsed": true
   },
   "outputs": [],
   "source": []
  }
 ],
 "metadata": {
  "kernelspec": {
   "display_name": "Python 3",
   "language": "python",
   "name": "python3"
  },
  "language_info": {
   "codemirror_mode": {
    "name": "ipython",
    "version": 3
   },
   "file_extension": ".py",
   "mimetype": "text/x-python",
   "name": "python",
   "nbconvert_exporter": "python",
   "pygments_lexer": "ipython3",
   "version": "3.6.3"
  }
 },
 "nbformat": 4,
 "nbformat_minor": 2
}
